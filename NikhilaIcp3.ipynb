{
 "cells": [
  {
   "cell_type": "code",
   "execution_count": 19,
   "id": "3e688efe",
   "metadata": {},
   "outputs": [],
   "source": [
    "class Employee:\n",
    "  no_of_employees = 0\n",
    "  name = ''\n",
    "  family = ''\n",
    "  salary = ''\n",
    "  department = ''\n",
    "  employees = []\n",
    "  def __init__(self, name, family, salary, department):\n",
    "    self.name = name\n",
    "    self.family = family\n",
    "    self.salary = salary\n",
    "    self.department = department\n",
    "    Employee.no_of_employees += 1\n",
    "    Employee.employees.append([name, family, salary, department])\n",
    "  def avg_salary():\n",
    "    total_sal = sum([employee[2] for employee in Employee.employees])\n",
    "    return round(total_sal/Employee.no_of_employees,2)\n",
    "\n",
    "class FulltimeEmployee(Employee):\n",
    "  pass\n",
    "\n",
    "#Employee('Nikhila', 'reddy', 340000, 'Data')\n",
    "#Employee('Tommy', 'Preetham', 75000, 'Development')\n",
    "#FulltimeEmployee('Vishnupriya', 'Vardhana', 136000, 'Testing')\n",
    "# print('Average salary of employees:',Employee.avg_salary())"
   ]
  },
  {
   "cell_type": "code",
   "execution_count": 20,
   "id": "31552900",
   "metadata": {},
   "outputs": [
    {
     "name": "stdout",
     "output_type": "stream",
     "text": [
      "Average salary of employees: 53666.67\n"
     ]
    }
   ],
   "source": [
    "Employee('Nikhila', 'reddy', 340000, 'Data')\n",
    "Employee('Tommy', 'Preetham', 75000, 'Development')\n",
    "FulltimeEmployee('Vishnupriya', 'Vardhana', 136000, 'Testing')\n",
    "print('Average salary of employees:',Employee.avg_salary())"
   ]
  },
  {
   "cell_type": "code",
   "execution_count": 21,
   "id": "f619de90",
   "metadata": {},
   "outputs": [
    {
     "name": "stdout",
     "output_type": "stream",
     "text": [
      "Original array:\n",
      " [[14.22730078  2.95777732  6.07418225 12.47477073 14.19215044]\n",
      " [ 5.26963977  1.16641329  5.24193449 18.50115169 19.70116806]\n",
      " [17.41499175  8.91011601  8.52445735 10.53037579 16.10837561]\n",
      " [11.25693805 18.56341935  6.18983595 11.2568489   3.88435677]]\n",
      "\n",
      "\n",
      "Array after replacing max with 0:\n",
      " [[ 0.          2.95777732  6.07418225 12.47477073 14.19215044]\n",
      " [ 5.26963977  1.16641329  5.24193449 18.50115169  0.        ]\n",
      " [ 0.          8.91011601  8.52445735 10.53037579 16.10837561]\n",
      " [11.25693805  0.          6.18983595 11.2568489   3.88435677]]\n"
     ]
    }
   ],
   "source": [
    "import numpy as np\n",
    "vector = np.random.uniform(1,20,20)\n",
    "arr = vector.reshape(4,5)\n",
    "maxn = np.amax(arr, axis=1)\n",
    "print('Original array:\\n',arr)\n",
    "print('\\n\\nArray after replacing max with 0:\\n',np.where(np.isin(arr,maxn), 0, arr))"
   ]
  },
  {
   "cell_type": "code",
   "execution_count": null,
   "id": "94806b8e",
   "metadata": {},
   "outputs": [],
   "source": []
  }
 ],
 "metadata": {
  "kernelspec": {
   "display_name": "Python 3 (ipykernel)",
   "language": "python",
   "name": "python3"
  },
  "language_info": {
   "codemirror_mode": {
    "name": "ipython",
    "version": 3
   },
   "file_extension": ".py",
   "mimetype": "text/x-python",
   "name": "python",
   "nbconvert_exporter": "python",
   "pygments_lexer": "ipython3",
   "version": "3.9.13"
  }
 },
 "nbformat": 4,
 "nbformat_minor": 5
}
